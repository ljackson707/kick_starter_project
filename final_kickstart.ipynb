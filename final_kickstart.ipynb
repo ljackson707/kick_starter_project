{
 "cells": [
  {
   "cell_type": "code",
   "execution_count": 1,
   "metadata": {},
   "outputs": [],
   "source": [
    "import numpy as np\n",
    "import pandas as pd\n",
    "import seaborn as sns\n",
    "import matplotlib.pyplot as plt\n",
    "import sklearn.preprocessing\n",
    "\n",
    "import wrangle\n",
    "from wrangle import get_kickstarter_data\n",
    "from wrangle import missing_zero_values_table\n",
    "from wrangle import handle_missing_values\n",
    "import explore\n",
    "\n",
    "import warnings\n",
    "warnings.filterwarnings(\"ignore\")\n"
   ]
  },
  {
   "cell_type": "code",
   "execution_count": 2,
   "metadata": {},
   "outputs": [],
   "source": [
    "df = get_kickstarter_data()"
   ]
  },
  {
   "cell_type": "code",
   "execution_count": 3,
   "metadata": {},
   "outputs": [
    {
     "data": {
      "text/html": [
       "<div>\n",
       "<style scoped>\n",
       "    .dataframe tbody tr th:only-of-type {\n",
       "        vertical-align: middle;\n",
       "    }\n",
       "\n",
       "    .dataframe tbody tr th {\n",
       "        vertical-align: top;\n",
       "    }\n",
       "\n",
       "    .dataframe thead th {\n",
       "        text-align: right;\n",
       "    }\n",
       "</style>\n",
       "<table border=\"1\" class=\"dataframe\">\n",
       "  <thead>\n",
       "    <tr style=\"text-align: right;\">\n",
       "      <th></th>\n",
       "      <th>ID</th>\n",
       "      <th>name</th>\n",
       "      <th>category</th>\n",
       "      <th>main_category</th>\n",
       "      <th>currency</th>\n",
       "      <th>deadline</th>\n",
       "      <th>goal</th>\n",
       "      <th>launched</th>\n",
       "      <th>pledged</th>\n",
       "      <th>state</th>\n",
       "      <th>backers</th>\n",
       "      <th>country</th>\n",
       "      <th>usd pledged</th>\n",
       "      <th>usd_pledged_real</th>\n",
       "      <th>usd_goal_real</th>\n",
       "    </tr>\n",
       "  </thead>\n",
       "  <tbody>\n",
       "    <tr>\n",
       "      <th>0</th>\n",
       "      <td>1000002330</td>\n",
       "      <td>The Songs of Adelaide &amp; Abullah</td>\n",
       "      <td>Poetry</td>\n",
       "      <td>Publishing</td>\n",
       "      <td>GBP</td>\n",
       "      <td>2015-10-09</td>\n",
       "      <td>1000.0</td>\n",
       "      <td>2015-08-11 12:12:28</td>\n",
       "      <td>0.0</td>\n",
       "      <td>failed</td>\n",
       "      <td>0</td>\n",
       "      <td>GB</td>\n",
       "      <td>0.0</td>\n",
       "      <td>0.0</td>\n",
       "      <td>1533.95</td>\n",
       "    </tr>\n",
       "    <tr>\n",
       "      <th>1</th>\n",
       "      <td>1000003930</td>\n",
       "      <td>Greeting From Earth: ZGAC Arts Capsule For ET</td>\n",
       "      <td>Narrative Film</td>\n",
       "      <td>Film &amp; Video</td>\n",
       "      <td>USD</td>\n",
       "      <td>2017-11-01</td>\n",
       "      <td>30000.0</td>\n",
       "      <td>2017-09-02 04:43:57</td>\n",
       "      <td>2421.0</td>\n",
       "      <td>failed</td>\n",
       "      <td>15</td>\n",
       "      <td>US</td>\n",
       "      <td>100.0</td>\n",
       "      <td>2421.0</td>\n",
       "      <td>30000.00</td>\n",
       "    </tr>\n",
       "    <tr>\n",
       "      <th>2</th>\n",
       "      <td>1000004038</td>\n",
       "      <td>Where is Hank?</td>\n",
       "      <td>Narrative Film</td>\n",
       "      <td>Film &amp; Video</td>\n",
       "      <td>USD</td>\n",
       "      <td>2013-02-26</td>\n",
       "      <td>45000.0</td>\n",
       "      <td>2013-01-12 00:20:50</td>\n",
       "      <td>220.0</td>\n",
       "      <td>failed</td>\n",
       "      <td>3</td>\n",
       "      <td>US</td>\n",
       "      <td>220.0</td>\n",
       "      <td>220.0</td>\n",
       "      <td>45000.00</td>\n",
       "    </tr>\n",
       "    <tr>\n",
       "      <th>3</th>\n",
       "      <td>1000007540</td>\n",
       "      <td>ToshiCapital Rekordz Needs Help to Complete Album</td>\n",
       "      <td>Music</td>\n",
       "      <td>Music</td>\n",
       "      <td>USD</td>\n",
       "      <td>2012-04-16</td>\n",
       "      <td>5000.0</td>\n",
       "      <td>2012-03-17 03:24:11</td>\n",
       "      <td>1.0</td>\n",
       "      <td>failed</td>\n",
       "      <td>1</td>\n",
       "      <td>US</td>\n",
       "      <td>1.0</td>\n",
       "      <td>1.0</td>\n",
       "      <td>5000.00</td>\n",
       "    </tr>\n",
       "    <tr>\n",
       "      <th>4</th>\n",
       "      <td>1000011046</td>\n",
       "      <td>Community Film Project: The Art of Neighborhoo...</td>\n",
       "      <td>Film &amp; Video</td>\n",
       "      <td>Film &amp; Video</td>\n",
       "      <td>USD</td>\n",
       "      <td>2015-08-29</td>\n",
       "      <td>19500.0</td>\n",
       "      <td>2015-07-04 08:35:03</td>\n",
       "      <td>1283.0</td>\n",
       "      <td>canceled</td>\n",
       "      <td>14</td>\n",
       "      <td>US</td>\n",
       "      <td>1283.0</td>\n",
       "      <td>1283.0</td>\n",
       "      <td>19500.00</td>\n",
       "    </tr>\n",
       "  </tbody>\n",
       "</table>\n",
       "</div>"
      ],
      "text/plain": [
       "           ID                                               name  \\\n",
       "0  1000002330                    The Songs of Adelaide & Abullah   \n",
       "1  1000003930      Greeting From Earth: ZGAC Arts Capsule For ET   \n",
       "2  1000004038                                     Where is Hank?   \n",
       "3  1000007540  ToshiCapital Rekordz Needs Help to Complete Album   \n",
       "4  1000011046  Community Film Project: The Art of Neighborhoo...   \n",
       "\n",
       "         category main_category currency    deadline     goal  \\\n",
       "0          Poetry    Publishing      GBP  2015-10-09   1000.0   \n",
       "1  Narrative Film  Film & Video      USD  2017-11-01  30000.0   \n",
       "2  Narrative Film  Film & Video      USD  2013-02-26  45000.0   \n",
       "3           Music         Music      USD  2012-04-16   5000.0   \n",
       "4    Film & Video  Film & Video      USD  2015-08-29  19500.0   \n",
       "\n",
       "              launched  pledged     state  backers country  usd pledged  \\\n",
       "0  2015-08-11 12:12:28      0.0    failed        0      GB          0.0   \n",
       "1  2017-09-02 04:43:57   2421.0    failed       15      US        100.0   \n",
       "2  2013-01-12 00:20:50    220.0    failed        3      US        220.0   \n",
       "3  2012-03-17 03:24:11      1.0    failed        1      US          1.0   \n",
       "4  2015-07-04 08:35:03   1283.0  canceled       14      US       1283.0   \n",
       "\n",
       "   usd_pledged_real  usd_goal_real  \n",
       "0               0.0        1533.95  \n",
       "1            2421.0       30000.00  \n",
       "2             220.0       45000.00  \n",
       "3               1.0        5000.00  \n",
       "4            1283.0       19500.00  "
      ]
     },
     "execution_count": 3,
     "metadata": {},
     "output_type": "execute_result"
    }
   ],
   "source": [
    "df.head()"
   ]
  },
  {
   "cell_type": "code",
   "execution_count": 4,
   "metadata": {},
   "outputs": [
    {
     "name": "stdout",
     "output_type": "stream",
     "text": [
      "<class 'pandas.core.frame.DataFrame'>\n",
      "RangeIndex: 378661 entries, 0 to 378660\n",
      "Data columns (total 15 columns):\n",
      " #   Column            Non-Null Count   Dtype  \n",
      "---  ------            --------------   -----  \n",
      " 0   ID                378661 non-null  int64  \n",
      " 1   name              378657 non-null  object \n",
      " 2   category          378661 non-null  object \n",
      " 3   main_category     378661 non-null  object \n",
      " 4   currency          378661 non-null  object \n",
      " 5   deadline          378661 non-null  object \n",
      " 6   goal              378661 non-null  float64\n",
      " 7   launched          378661 non-null  object \n",
      " 8   pledged           378661 non-null  float64\n",
      " 9   state             378661 non-null  object \n",
      " 10  backers           378661 non-null  int64  \n",
      " 11  country           378661 non-null  object \n",
      " 12  usd pledged       374864 non-null  float64\n",
      " 13  usd_pledged_real  378661 non-null  float64\n",
      " 14  usd_goal_real     378661 non-null  float64\n",
      "dtypes: float64(5), int64(2), object(8)\n",
      "memory usage: 43.3+ MB\n"
     ]
    }
   ],
   "source": [
    "df.info()"
   ]
  },
  {
   "cell_type": "code",
   "execution_count": 5,
   "metadata": {},
   "outputs": [
    {
     "data": {
      "text/plain": [
       "USD    295365\n",
       "GBP     34132\n",
       "EUR     17405\n",
       "CAD     14962\n",
       "AUD      7950\n",
       "SEK      1788\n",
       "MXN      1752\n",
       "NZD      1475\n",
       "DKK      1129\n",
       "CHF       768\n",
       "NOK       722\n",
       "HKD       618\n",
       "SGD       555\n",
       "JPY        40\n",
       "Name: currency, dtype: int64"
      ]
     },
     "execution_count": 5,
     "metadata": {},
     "output_type": "execute_result"
    }
   ],
   "source": [
    "df.currency.value_counts()"
   ]
  },
  {
   "cell_type": "code",
   "execution_count": 6,
   "metadata": {},
   "outputs": [
    {
     "name": "stdout",
     "output_type": "stream",
     "text": [
      "Your selected dataframe has 15 columns and 378661 Rows.\n",
      "There are 2 columns that have NULL values.\n"
     ]
    },
    {
     "data": {
      "text/html": [
       "<div>\n",
       "<style scoped>\n",
       "    .dataframe tbody tr th:only-of-type {\n",
       "        vertical-align: middle;\n",
       "    }\n",
       "\n",
       "    .dataframe tbody tr th {\n",
       "        vertical-align: top;\n",
       "    }\n",
       "\n",
       "    .dataframe thead th {\n",
       "        text-align: right;\n",
       "    }\n",
       "</style>\n",
       "<table border=\"1\" class=\"dataframe\">\n",
       "  <thead>\n",
       "    <tr style=\"text-align: right;\">\n",
       "      <th></th>\n",
       "      <th>Zero Values</th>\n",
       "      <th>null_count</th>\n",
       "      <th>% of Total Values</th>\n",
       "      <th>Total Zeroes + Null Values</th>\n",
       "      <th>% Total Zero + Null Values</th>\n",
       "      <th>Data Type</th>\n",
       "    </tr>\n",
       "  </thead>\n",
       "  <tbody>\n",
       "    <tr>\n",
       "      <th>usd pledged</th>\n",
       "      <td>68112</td>\n",
       "      <td>3797</td>\n",
       "      <td>1.0</td>\n",
       "      <td>71909</td>\n",
       "      <td>19.0</td>\n",
       "      <td>float64</td>\n",
       "    </tr>\n",
       "    <tr>\n",
       "      <th>name</th>\n",
       "      <td>0</td>\n",
       "      <td>4</td>\n",
       "      <td>0.0</td>\n",
       "      <td>4</td>\n",
       "      <td>0.0</td>\n",
       "      <td>object</td>\n",
       "    </tr>\n",
       "    <tr>\n",
       "      <th>ID</th>\n",
       "      <td>0</td>\n",
       "      <td>0</td>\n",
       "      <td>0.0</td>\n",
       "      <td>0</td>\n",
       "      <td>0.0</td>\n",
       "      <td>int64</td>\n",
       "    </tr>\n",
       "    <tr>\n",
       "      <th>category</th>\n",
       "      <td>0</td>\n",
       "      <td>0</td>\n",
       "      <td>0.0</td>\n",
       "      <td>0</td>\n",
       "      <td>0.0</td>\n",
       "      <td>object</td>\n",
       "    </tr>\n",
       "    <tr>\n",
       "      <th>main_category</th>\n",
       "      <td>0</td>\n",
       "      <td>0</td>\n",
       "      <td>0.0</td>\n",
       "      <td>0</td>\n",
       "      <td>0.0</td>\n",
       "      <td>object</td>\n",
       "    </tr>\n",
       "    <tr>\n",
       "      <th>currency</th>\n",
       "      <td>0</td>\n",
       "      <td>0</td>\n",
       "      <td>0.0</td>\n",
       "      <td>0</td>\n",
       "      <td>0.0</td>\n",
       "      <td>object</td>\n",
       "    </tr>\n",
       "    <tr>\n",
       "      <th>deadline</th>\n",
       "      <td>0</td>\n",
       "      <td>0</td>\n",
       "      <td>0.0</td>\n",
       "      <td>0</td>\n",
       "      <td>0.0</td>\n",
       "      <td>object</td>\n",
       "    </tr>\n",
       "    <tr>\n",
       "      <th>goal</th>\n",
       "      <td>0</td>\n",
       "      <td>0</td>\n",
       "      <td>0.0</td>\n",
       "      <td>0</td>\n",
       "      <td>0.0</td>\n",
       "      <td>float64</td>\n",
       "    </tr>\n",
       "    <tr>\n",
       "      <th>launched</th>\n",
       "      <td>0</td>\n",
       "      <td>0</td>\n",
       "      <td>0.0</td>\n",
       "      <td>0</td>\n",
       "      <td>0.0</td>\n",
       "      <td>object</td>\n",
       "    </tr>\n",
       "    <tr>\n",
       "      <th>pledged</th>\n",
       "      <td>52527</td>\n",
       "      <td>0</td>\n",
       "      <td>0.0</td>\n",
       "      <td>52527</td>\n",
       "      <td>13.9</td>\n",
       "      <td>float64</td>\n",
       "    </tr>\n",
       "    <tr>\n",
       "      <th>state</th>\n",
       "      <td>0</td>\n",
       "      <td>0</td>\n",
       "      <td>0.0</td>\n",
       "      <td>0</td>\n",
       "      <td>0.0</td>\n",
       "      <td>object</td>\n",
       "    </tr>\n",
       "    <tr>\n",
       "      <th>backers</th>\n",
       "      <td>55609</td>\n",
       "      <td>0</td>\n",
       "      <td>0.0</td>\n",
       "      <td>55609</td>\n",
       "      <td>14.7</td>\n",
       "      <td>int64</td>\n",
       "    </tr>\n",
       "    <tr>\n",
       "      <th>country</th>\n",
       "      <td>0</td>\n",
       "      <td>0</td>\n",
       "      <td>0.0</td>\n",
       "      <td>0</td>\n",
       "      <td>0.0</td>\n",
       "      <td>object</td>\n",
       "    </tr>\n",
       "    <tr>\n",
       "      <th>usd_pledged_real</th>\n",
       "      <td>52527</td>\n",
       "      <td>0</td>\n",
       "      <td>0.0</td>\n",
       "      <td>52527</td>\n",
       "      <td>13.9</td>\n",
       "      <td>float64</td>\n",
       "    </tr>\n",
       "    <tr>\n",
       "      <th>usd_goal_real</th>\n",
       "      <td>0</td>\n",
       "      <td>0</td>\n",
       "      <td>0.0</td>\n",
       "      <td>0</td>\n",
       "      <td>0.0</td>\n",
       "      <td>float64</td>\n",
       "    </tr>\n",
       "  </tbody>\n",
       "</table>\n",
       "</div>"
      ],
      "text/plain": [
       "                  Zero Values  null_count  % of Total Values  \\\n",
       "usd pledged             68112        3797                1.0   \n",
       "name                        0           4                0.0   \n",
       "ID                          0           0                0.0   \n",
       "category                    0           0                0.0   \n",
       "main_category               0           0                0.0   \n",
       "currency                    0           0                0.0   \n",
       "deadline                    0           0                0.0   \n",
       "goal                        0           0                0.0   \n",
       "launched                    0           0                0.0   \n",
       "pledged                 52527           0                0.0   \n",
       "state                       0           0                0.0   \n",
       "backers                 55609           0                0.0   \n",
       "country                     0           0                0.0   \n",
       "usd_pledged_real        52527           0                0.0   \n",
       "usd_goal_real               0           0                0.0   \n",
       "\n",
       "                  Total Zeroes + Null Values  % Total Zero + Null Values  \\\n",
       "usd pledged                            71909                        19.0   \n",
       "name                                       4                         0.0   \n",
       "ID                                         0                         0.0   \n",
       "category                                   0                         0.0   \n",
       "main_category                              0                         0.0   \n",
       "currency                                   0                         0.0   \n",
       "deadline                                   0                         0.0   \n",
       "goal                                       0                         0.0   \n",
       "launched                                   0                         0.0   \n",
       "pledged                                52527                        13.9   \n",
       "state                                      0                         0.0   \n",
       "backers                                55609                        14.7   \n",
       "country                                    0                         0.0   \n",
       "usd_pledged_real                       52527                        13.9   \n",
       "usd_goal_real                              0                         0.0   \n",
       "\n",
       "                 Data Type  \n",
       "usd pledged        float64  \n",
       "name                object  \n",
       "ID                   int64  \n",
       "category            object  \n",
       "main_category       object  \n",
       "currency            object  \n",
       "deadline            object  \n",
       "goal               float64  \n",
       "launched            object  \n",
       "pledged            float64  \n",
       "state               object  \n",
       "backers              int64  \n",
       "country             object  \n",
       "usd_pledged_real   float64  \n",
       "usd_goal_real      float64  "
      ]
     },
     "execution_count": 6,
     "metadata": {},
     "output_type": "execute_result"
    }
   ],
   "source": [
    "mz_table = missing_zero_values_table(df)\n",
    "mz_table"
   ]
  },
  {
   "cell_type": "code",
   "execution_count": 7,
   "metadata": {},
   "outputs": [
    {
     "data": {
      "text/plain": [
       "ID                     0\n",
       "name                   4\n",
       "category               0\n",
       "main_category          0\n",
       "currency               0\n",
       "deadline               0\n",
       "goal                   0\n",
       "launched               0\n",
       "pledged                0\n",
       "state                  0\n",
       "backers                0\n",
       "country                0\n",
       "usd pledged         3797\n",
       "usd_pledged_real       0\n",
       "usd_goal_real          0\n",
       "dtype: int64"
      ]
     },
     "execution_count": 7,
     "metadata": {},
     "output_type": "execute_result"
    }
   ],
   "source": [
    "df.isnull().sum()"
   ]
  },
  {
   "cell_type": "code",
   "execution_count": 8,
   "metadata": {},
   "outputs": [
    {
     "data": {
      "text/plain": [
       "3797"
      ]
     },
     "execution_count": 8,
     "metadata": {},
     "output_type": "execute_result"
    }
   ],
   "source": [
    "df['usd pledged'].isnull().sum()"
   ]
  },
  {
   "cell_type": "code",
   "execution_count": 9,
   "metadata": {},
   "outputs": [
    {
     "data": {
      "text/plain": [
       "(378661, 15)"
      ]
     },
     "execution_count": 9,
     "metadata": {},
     "output_type": "execute_result"
    }
   ],
   "source": [
    "df.shape"
   ]
  },
  {
   "cell_type": "markdown",
   "metadata": {},
   "source": [
    "# Takeaways"
   ]
  },
  {
   "cell_type": "markdown",
   "metadata": {},
   "source": [
    "?"
   ]
  },
  {
   "cell_type": "code",
   "execution_count": 10,
   "metadata": {},
   "outputs": [],
   "source": [
    "df = handle_missing_values(df, prop_required_column = .5, prop_required_row = 1)"
   ]
  },
  {
   "cell_type": "code",
   "execution_count": 11,
   "metadata": {},
   "outputs": [
    {
     "data": {
      "text/plain": [
       "ID                  0\n",
       "name                0\n",
       "category            0\n",
       "main_category       0\n",
       "currency            0\n",
       "deadline            0\n",
       "goal                0\n",
       "launched            0\n",
       "pledged             0\n",
       "state               0\n",
       "backers             0\n",
       "country             0\n",
       "usd pledged         0\n",
       "usd_pledged_real    0\n",
       "usd_goal_real       0\n",
       "dtype: int64"
      ]
     },
     "execution_count": 11,
     "metadata": {},
     "output_type": "execute_result"
    }
   ],
   "source": [
    "df.isnull().sum()"
   ]
  },
  {
   "cell_type": "code",
   "execution_count": 12,
   "metadata": {},
   "outputs": [
    {
     "data": {
      "text/plain": [
       "(374860, 15)"
      ]
     },
     "execution_count": 12,
     "metadata": {},
     "output_type": "execute_result"
    }
   ],
   "source": [
    "df.shape"
   ]
  },
  {
   "cell_type": "markdown",
   "metadata": {},
   "source": [
    "# Takeaways"
   ]
  },
  {
   "cell_type": "markdown",
   "metadata": {},
   "source": [
    "- Total number of null values removed = 3801.\n",
    "- Total of 4 instances from name column and 3797 instances from usd_pledged column\n",
    "- I removed the rows with null values to keep the data frame values equal."
   ]
  },
  {
   "cell_type": "code",
   "execution_count": 13,
   "metadata": {},
   "outputs": [],
   "source": [
    "df = df.drop(columns = ['pledged', 'usd pledged', 'goal', 'ID', 'name', 'category'])"
   ]
  },
  {
   "cell_type": "code",
   "execution_count": 14,
   "metadata": {},
   "outputs": [
    {
     "name": "stdout",
     "output_type": "stream",
     "text": [
      "<class 'pandas.core.frame.DataFrame'>\n",
      "Int64Index: 374860 entries, 0 to 378660\n",
      "Data columns (total 9 columns):\n",
      " #   Column            Non-Null Count   Dtype  \n",
      "---  ------            --------------   -----  \n",
      " 0   main_category     374860 non-null  object \n",
      " 1   currency          374860 non-null  object \n",
      " 2   deadline          374860 non-null  object \n",
      " 3   launched          374860 non-null  object \n",
      " 4   state             374860 non-null  object \n",
      " 5   backers           374860 non-null  int64  \n",
      " 6   country           374860 non-null  object \n",
      " 7   usd_pledged_real  374860 non-null  float64\n",
      " 8   usd_goal_real     374860 non-null  float64\n",
      "dtypes: float64(2), int64(1), object(6)\n",
      "memory usage: 28.6+ MB\n"
     ]
    }
   ],
   "source": [
    "df.info()"
   ]
  },
  {
   "cell_type": "code",
   "execution_count": 15,
   "metadata": {},
   "outputs": [],
   "source": [
    "df.drop(df.index[df['state'] == 'canceled'], inplace = True)\n",
    "df.drop(df.index[df['state'] == 'live'], inplace = True)\n",
    "df.drop(df.index[df['state'] == 'suspended'], inplace = True)\n",
    "df.drop(df.index[df['backers'] == 0], inplace = True)"
   ]
  },
  {
   "cell_type": "code",
   "execution_count": 16,
   "metadata": {},
   "outputs": [
    {
     "data": {
      "text/plain": [
       "<AxesSubplot:>"
      ]
     },
     "execution_count": 16,
     "metadata": {},
     "output_type": "execute_result"
    },
    {
     "data": {
      "image/png": "[encoded data removed]",
      "text/plain": [
       "<Figure size 432x288 with 1 Axes>"
      ]
     },
     "metadata": {
      "needs_background": "light"
     },
     "output_type": "display_data"
    }
   ],
   "source": [
    "df.backers.hist()"
   ]
  },
  {
   "cell_type": "code",
   "execution_count": 17,
   "metadata": {},
   "outputs": [
    {
     "data": {
      "text/plain": [
       "failed        158974\n",
       "successful    133851\n",
       "Name: state, dtype: int64"
      ]
     },
     "execution_count": 17,
     "metadata": {},
     "output_type": "execute_result"
    }
   ],
   "source": [
    "df.state.value_counts()"
   ]
  },
  {
   "cell_type": "markdown",
   "metadata": {},
   "source": [
    "# Takeaways"
   ]
  },
  {
   "cell_type": "markdown",
   "metadata": {},
   "source": [
    "- I only wanted to look at projects that succeded or failed, so I decided to drop the indivudal sub-categorys within state leaving success and failed."
   ]
  },
  {
   "cell_type": "code",
   "execution_count": 18,
   "metadata": {
    "jupyter": {
     "source_hidden": true
    }
   },
   "outputs": [],
   "source": [
    "def set_cat_to_num(df):\n",
    "    if (df['main_category'] == 'Film & Video'):\n",
    "        return 1\n",
    "    elif (df['main_category'] == 'Music'):\n",
    "        return 2\n",
    "    elif (df['main_category'] == 'Publishing'):\n",
    "        return 3\n",
    "    elif (df['main_category'] == 'Games'):\n",
    "        return 4\n",
    "    elif (df['main_category'] == 'Technology'):\n",
    "        return 5\n",
    "    elif (df['main_category'] == 'Art'):\n",
    "        return 6\n",
    "    elif (df['main_category'] == 'Design'):\n",
    "        return 7\n",
    "    elif (df['main_category'] == 'Food'):\n",
    "        return 8\n",
    "    elif (df['main_category'] == 'Fashion'):\n",
    "        return 9\n",
    "    elif (df['main_category'] == 'Theater'):\n",
    "        return 10\n",
    "    elif (df['main_category'] == 'Comics'):\n",
    "        return 11\n",
    "    elif (df['main_category'] == 'Photography'):\n",
    "        return 12\n",
    "    elif (df['main_category'] == 'Crafts'):\n",
    "        return 13\n",
    "    elif (df['main_category'] == 'Journalism'):\n",
    "        return 14\n",
    "    elif (df['main_category'] == 'Dance'):\n",
    "        return 15"
   ]
  },
  {
   "cell_type": "code",
   "execution_count": 19,
   "metadata": {
    "jupyter": {
     "source_hidden": true
    }
   },
   "outputs": [],
   "source": [
    "def set_curr_to_num(df):\n",
    "    if (df['currency'] == 'USD'):\n",
    "        return 1\n",
    "    elif (df['currency'] == 'GBP'):\n",
    "        return 2\n",
    "    elif (df['currency'] == 'EUR'):\n",
    "        return 3\n",
    "    elif (df['currency'] == 'CAD'):\n",
    "        return 4\n",
    "    elif (df['currency'] == 'AUD'):\n",
    "        return 5\n",
    "    elif (df['currency'] == 'SEK'):\n",
    "        return 6\n",
    "    elif (df['currency'] == 'MXN'):\n",
    "        return 7\n",
    "    elif (df['currency'] == 'NZD'):\n",
    "        return 8\n",
    "    elif (df['currency'] == 'DKK'):\n",
    "        return 9\n",
    "    elif (df['currency'] == 'CHF'):\n",
    "        return 10\n",
    "    elif (df['currency'] == 'NOK'):\n",
    "        return 11\n",
    "    elif (df['currency'] == 'HKD'):\n",
    "        return 12\n",
    "    elif (df['currency'] == 'SGD'):\n",
    "        return 13\n",
    "    elif (df['currency'] == 'JPY'):\n",
    "        return 14"
   ]
  },
  {
   "cell_type": "code",
   "execution_count": 20,
   "metadata": {
    "jupyter": {
     "source_hidden": true
    }
   },
   "outputs": [],
   "source": [
    "def set_country_to_num(df):\n",
    "    if (df['country'] == 'US'):\n",
    "        return 1\n",
    "    elif (df['country'] == 'GB'):\n",
    "        return 2\n",
    "    elif (df['country'] == 'CA'):\n",
    "        return 3\n",
    "    elif (df['country'] == 'AU'):\n",
    "        return 4\n",
    "    elif (df['country'] == 'DE'):\n",
    "        return 5\n",
    "    elif (df['country'] == 'FR'):\n",
    "        return 6\n",
    "    elif (df['country'] == 'NL'):\n",
    "        return 7\n",
    "    elif (df['country'] == 'IT'):\n",
    "        return 8\n",
    "    elif (df['country'] == 'ES'):\n",
    "        return 9\n",
    "    elif (df['country'] == 'SE'):\n",
    "        return 10\n",
    "    elif (df['country'] == 'MX'):\n",
    "        return 11\n",
    "    elif (df['country'] == 'NZ'):\n",
    "        return 12\n",
    "    elif (df['country'] == 'DK'):\n",
    "        return 13\n",
    "    elif (df['country'] == 'IE'):\n",
    "        return 14\n",
    "    elif (df['country'] == 'CH'):\n",
    "        return 15\n",
    "    elif (df['country'] == 'NO'):\n",
    "        return 16\n",
    "    elif (df['country'] == 'BE'):\n",
    "        return 17\n",
    "    elif (df['country'] == 'AT'):\n",
    "        return 18\n",
    "    elif (df['country'] == 'HK'):\n",
    "        return 19\n",
    "    elif (df['country'] == 'SG'):\n",
    "        return 20\n",
    "    elif (df['country'] == 'LU'):\n",
    "        return 21\n",
    "    elif (df['country'] == 'JP'):\n",
    "        return 22"
   ]
  },
  {
   "cell_type": "code",
   "execution_count": 21,
   "metadata": {},
   "outputs": [],
   "source": [
    "df['main_category_val'] = df.apply(set_cat_to_num, axis = 1)\n",
    "df = df.drop(columns = ['main_category'])\n",
    "\n",
    "df['currency_type_val'] = df.apply(set_curr_to_num, axis = 1)\n",
    "df = df.drop(columns = ['currency'])\n",
    "\n",
    "df['country_name_val'] = df.apply(set_country_to_num, axis = 1)\n",
    "df = df.drop(columns = ['country'])"
   ]
  },
  {
   "cell_type": "code",
   "execution_count": 22,
   "metadata": {
    "collapsed": true,
    "jupyter": {
     "outputs_hidden": true
    }
   },
   "outputs": [
    {
     "data": {
      "text/html": [
       "<div>\n",
       "<style scoped>\n",
       "    .dataframe tbody tr th:only-of-type {\n",
       "        vertical-align: middle;\n",
       "    }\n",
       "\n",
       "    .dataframe tbody tr th {\n",
       "        vertical-align: top;\n",
       "    }\n",
       "\n",
       "    .dataframe thead th {\n",
       "        text-align: right;\n",
       "    }\n",
       "</style>\n",
       "<table border=\"1\" class=\"dataframe\">\n",
       "  <thead>\n",
       "    <tr style=\"text-align: right;\">\n",
       "      <th></th>\n",
       "      <th>deadline</th>\n",
       "      <th>launched</th>\n",
       "      <th>state</th>\n",
       "      <th>backers</th>\n",
       "      <th>usd_pledged_real</th>\n",
       "      <th>usd_goal_real</th>\n",
       "      <th>main_category_val</th>\n",
       "      <th>currency_type_val</th>\n",
       "      <th>country_name_val</th>\n",
       "    </tr>\n",
       "  </thead>\n",
       "  <tbody>\n",
       "    <tr>\n",
       "      <th>1</th>\n",
       "      <td>2017-11-01</td>\n",
       "      <td>2017-09-02 04:43:57</td>\n",
       "      <td>failed</td>\n",
       "      <td>15</td>\n",
       "      <td>2421.0</td>\n",
       "      <td>30000.0</td>\n",
       "      <td>1</td>\n",
       "      <td>1</td>\n",
       "      <td>1</td>\n",
       "    </tr>\n",
       "    <tr>\n",
       "      <th>2</th>\n",
       "      <td>2013-02-26</td>\n",
       "      <td>2013-01-12 00:20:50</td>\n",
       "      <td>failed</td>\n",
       "      <td>3</td>\n",
       "      <td>220.0</td>\n",
       "      <td>45000.0</td>\n",
       "      <td>1</td>\n",
       "      <td>1</td>\n",
       "      <td>1</td>\n",
       "    </tr>\n",
       "    <tr>\n",
       "      <th>3</th>\n",
       "      <td>2012-04-16</td>\n",
       "      <td>2012-03-17 03:24:11</td>\n",
       "      <td>failed</td>\n",
       "      <td>1</td>\n",
       "      <td>1.0</td>\n",
       "      <td>5000.0</td>\n",
       "      <td>2</td>\n",
       "      <td>1</td>\n",
       "      <td>1</td>\n",
       "    </tr>\n",
       "    <tr>\n",
       "      <th>5</th>\n",
       "      <td>2016-04-01</td>\n",
       "      <td>2016-02-26 13:38:27</td>\n",
       "      <td>successful</td>\n",
       "      <td>224</td>\n",
       "      <td>52375.0</td>\n",
       "      <td>50000.0</td>\n",
       "      <td>8</td>\n",
       "      <td>1</td>\n",
       "      <td>1</td>\n",
       "    </tr>\n",
       "    <tr>\n",
       "      <th>6</th>\n",
       "      <td>2014-12-21</td>\n",
       "      <td>2014-12-01 18:30:44</td>\n",
       "      <td>successful</td>\n",
       "      <td>16</td>\n",
       "      <td>1205.0</td>\n",
       "      <td>1000.0</td>\n",
       "      <td>8</td>\n",
       "      <td>1</td>\n",
       "      <td>1</td>\n",
       "    </tr>\n",
       "  </tbody>\n",
       "</table>\n",
       "</div>"
      ],
      "text/plain": [
       "     deadline             launched       state  backers  usd_pledged_real  \\\n",
       "1  2017-11-01  2017-09-02 04:43:57      failed       15            2421.0   \n",
       "2  2013-02-26  2013-01-12 00:20:50      failed        3             220.0   \n",
       "3  2012-04-16  2012-03-17 03:24:11      failed        1               1.0   \n",
       "5  2016-04-01  2016-02-26 13:38:27  successful      224           52375.0   \n",
       "6  2014-12-21  2014-12-01 18:30:44  successful       16            1205.0   \n",
       "\n",
       "   usd_goal_real  main_category_val  currency_type_val  country_name_val  \n",
       "1        30000.0                  1                  1                 1  \n",
       "2        45000.0                  1                  1                 1  \n",
       "3         5000.0                  2                  1                 1  \n",
       "5        50000.0                  8                  1                 1  \n",
       "6         1000.0                  8                  1                 1  "
      ]
     },
     "execution_count": 22,
     "metadata": {},
     "output_type": "execute_result"
    }
   ],
   "source": [
    "df.head()"
   ]
  },
  {
   "cell_type": "code",
   "execution_count": 23,
   "metadata": {},
   "outputs": [],
   "source": [
    "from wrangle import get_dummies"
   ]
  },
  {
   "cell_type": "code",
   "execution_count": 24,
   "metadata": {},
   "outputs": [],
   "source": [
    "df = get_dummies(df)"
   ]
  },
  {
   "cell_type": "code",
   "execution_count": 25,
   "metadata": {
    "collapsed": true,
    "jupyter": {
     "outputs_hidden": true
    }
   },
   "outputs": [
    {
     "name": "stdout",
     "output_type": "stream",
     "text": [
      "<class 'pandas.core.frame.DataFrame'>\n",
      "Int64Index: 292825 entries, 1 to 378660\n",
      "Data columns (total 10 columns):\n",
      " #   Column             Non-Null Count   Dtype  \n",
      "---  ------             --------------   -----  \n",
      " 0   deadline           292825 non-null  object \n",
      " 1   launched           292825 non-null  object \n",
      " 2   backers            292825 non-null  int64  \n",
      " 3   usd_pledged_real   292825 non-null  float64\n",
      " 4   usd_goal_real      292825 non-null  float64\n",
      " 5   main_category_val  292825 non-null  int64  \n",
      " 6   currency_type_val  292825 non-null  int64  \n",
      " 7   country_name_val   292825 non-null  int64  \n",
      " 8   state_failed       292825 non-null  int64  \n",
      " 9   state_successful   292825 non-null  int64  \n",
      "dtypes: float64(2), int64(6), object(2)\n",
      "memory usage: 24.6+ MB\n"
     ]
    }
   ],
   "source": [
    "df.info()"
   ]
  },
  {
   "cell_type": "code",
   "execution_count": 26,
   "metadata": {},
   "outputs": [],
   "source": [
    "from wrangle import turn_to_time"
   ]
  },
  {
   "cell_type": "code",
   "execution_count": 27,
   "metadata": {},
   "outputs": [],
   "source": [
    "df = turn_to_time(df)"
   ]
  },
  {
   "cell_type": "code",
   "execution_count": 28,
   "metadata": {},
   "outputs": [
    {
     "data": {
      "text/html": [
       "<div>\n",
       "<style scoped>\n",
       "    .dataframe tbody tr th:only-of-type {\n",
       "        vertical-align: middle;\n",
       "    }\n",
       "\n",
       "    .dataframe tbody tr th {\n",
       "        vertical-align: top;\n",
       "    }\n",
       "\n",
       "    .dataframe thead th {\n",
       "        text-align: right;\n",
       "    }\n",
       "</style>\n",
       "<table border=\"1\" class=\"dataframe\">\n",
       "  <thead>\n",
       "    <tr style=\"text-align: right;\">\n",
       "      <th></th>\n",
       "      <th>backers</th>\n",
       "      <th>usd_pledged_real</th>\n",
       "      <th>usd_goal_real</th>\n",
       "      <th>main_category_val</th>\n",
       "      <th>currency_type_val</th>\n",
       "      <th>country_name_val</th>\n",
       "      <th>state_failed</th>\n",
       "      <th>state_successful</th>\n",
       "      <th>number_of_days</th>\n",
       "    </tr>\n",
       "  </thead>\n",
       "  <tbody>\n",
       "    <tr>\n",
       "      <th>1</th>\n",
       "      <td>15</td>\n",
       "      <td>2421.0</td>\n",
       "      <td>30000.0</td>\n",
       "      <td>1</td>\n",
       "      <td>1</td>\n",
       "      <td>1</td>\n",
       "      <td>1</td>\n",
       "      <td>0</td>\n",
       "      <td>44</td>\n",
       "    </tr>\n",
       "    <tr>\n",
       "      <th>2</th>\n",
       "      <td>3</td>\n",
       "      <td>220.0</td>\n",
       "      <td>45000.0</td>\n",
       "      <td>1</td>\n",
       "      <td>1</td>\n",
       "      <td>1</td>\n",
       "      <td>1</td>\n",
       "      <td>0</td>\n",
       "      <td>29</td>\n",
       "    </tr>\n",
       "    <tr>\n",
       "      <th>3</th>\n",
       "      <td>1</td>\n",
       "      <td>1.0</td>\n",
       "      <td>5000.0</td>\n",
       "      <td>2</td>\n",
       "      <td>1</td>\n",
       "      <td>1</td>\n",
       "      <td>1</td>\n",
       "      <td>0</td>\n",
       "      <td>34</td>\n",
       "    </tr>\n",
       "    <tr>\n",
       "      <th>5</th>\n",
       "      <td>224</td>\n",
       "      <td>52375.0</td>\n",
       "      <td>50000.0</td>\n",
       "      <td>8</td>\n",
       "      <td>1</td>\n",
       "      <td>1</td>\n",
       "      <td>0</td>\n",
       "      <td>1</td>\n",
       "      <td>44</td>\n",
       "    </tr>\n",
       "    <tr>\n",
       "      <th>6</th>\n",
       "      <td>16</td>\n",
       "      <td>1205.0</td>\n",
       "      <td>1000.0</td>\n",
       "      <td>8</td>\n",
       "      <td>1</td>\n",
       "      <td>1</td>\n",
       "      <td>0</td>\n",
       "      <td>1</td>\n",
       "      <td>29</td>\n",
       "    </tr>\n",
       "  </tbody>\n",
       "</table>\n",
       "</div>"
      ],
      "text/plain": [
       "   backers  usd_pledged_real  usd_goal_real  main_category_val  \\\n",
       "1       15            2421.0        30000.0                  1   \n",
       "2        3             220.0        45000.0                  1   \n",
       "3        1               1.0         5000.0                  2   \n",
       "5      224           52375.0        50000.0                  8   \n",
       "6       16            1205.0         1000.0                  8   \n",
       "\n",
       "   currency_type_val  country_name_val  state_failed  state_successful  \\\n",
       "1                  1                 1             1                 0   \n",
       "2                  1                 1             1                 0   \n",
       "3                  1                 1             1                 0   \n",
       "5                  1                 1             0                 1   \n",
       "6                  1                 1             0                 1   \n",
       "\n",
       "   number_of_days  \n",
       "1              44  \n",
       "2              29  \n",
       "3              34  \n",
       "5              44  \n",
       "6              29  "
      ]
     },
     "execution_count": 28,
     "metadata": {},
     "output_type": "execute_result"
    }
   ],
   "source": [
    "df.head()"
   ]
  },
  {
   "cell_type": "code",
   "execution_count": 29,
   "metadata": {},
   "outputs": [
    {
     "name": "stdout",
     "output_type": "stream",
     "text": [
      "<class 'pandas.core.frame.DataFrame'>\n",
      "Int64Index: 226596 entries, 1 to 292823\n",
      "Data columns (total 9 columns):\n",
      " #   Column             Non-Null Count   Dtype  \n",
      "---  ------             --------------   -----  \n",
      " 0   backers            226596 non-null  int64  \n",
      " 1   usd_pledged_real   226596 non-null  float64\n",
      " 2   usd_goal_real      226596 non-null  float64\n",
      " 3   main_category_val  226596 non-null  int64  \n",
      " 4   currency_type_val  226596 non-null  int64  \n",
      " 5   country_name_val   226596 non-null  int64  \n",
      " 6   state_failed       226596 non-null  int64  \n",
      " 7   state_successful   226596 non-null  int64  \n",
      " 8   number_of_days     226596 non-null  int64  \n",
      "dtypes: float64(2), int64(7)\n",
      "memory usage: 17.3 MB\n"
     ]
    }
   ],
   "source": [
    "df.info()"
   ]
  },
  {
   "cell_type": "code",
   "execution_count": 30,
   "metadata": {},
   "outputs": [],
   "source": [
    "from wrangle import handle_outliers_backers\n",
    "from wrangle import handle_outliers_usd_pledged_real\n",
    "from wrangle import handle_outliers_usd_goal_real"
   ]
  },
  {
   "cell_type": "code",
   "execution_count": 31,
   "metadata": {},
   "outputs": [
    {
     "data": {
      "image/png": "[encoded data removed]",
      "text/plain": [
       "<Figure size 432x288 with 1 Axes>"
      ]
     },
     "metadata": {
      "needs_background": "light"
     },
     "output_type": "display_data"
    }
   ],
   "source": [
    "df = handle_outliers_backers(df)"
   ]
  },
  {
   "cell_type": "code",
   "execution_count": 32,
   "metadata": {},
   "outputs": [
    {
     "data": {
      "image/png": "[encoded data removed]",
      "text/plain": [
       "<Figure size 432x288 with 1 Axes>"
      ]
     },
     "metadata": {
      "needs_background": "light"
     },
     "output_type": "display_data"
    }
   ],
   "source": [
    "df = handle_outliers_usd_pledged_real(df)"
   ]
  },
  {
   "cell_type": "code",
   "execution_count": 33,
   "metadata": {},
   "outputs": [
    {
     "data": {
      "image/png": "[encoded data removed]",
      "text/plain": [
       "<Figure size 432x288 with 1 Axes>"
      ]
     },
     "metadata": {
      "needs_background": "light"
     },
     "output_type": "display_data"
    }
   ],
   "source": [
    "df = handle_outliers_usd_goal_real(df)"
   ]
  },
  {
   "cell_type": "code",
   "execution_count": 34,
   "metadata": {},
   "outputs": [],
   "source": [
    "from wrangle import data_split"
   ]
  },
  {
   "cell_type": "code",
   "execution_count": 35,
   "metadata": {},
   "outputs": [],
   "source": [
    "train, validate, test, X_train, y_train, X_validate, y_validate, X_test, y_test = data_split(df, stratify_by='state')"
   ]
  },
  {
   "cell_type": "code",
   "execution_count": 36,
   "metadata": {},
   "outputs": [
    {
     "data": {
      "text/html": [
       "<div>\n",
       "<style scoped>\n",
       "    .dataframe tbody tr th:only-of-type {\n",
       "        vertical-align: middle;\n",
       "    }\n",
       "\n",
       "    .dataframe tbody tr th {\n",
       "        vertical-align: top;\n",
       "    }\n",
       "\n",
       "    .dataframe thead th {\n",
       "        text-align: right;\n",
       "    }\n",
       "</style>\n",
       "<table border=\"1\" class=\"dataframe\">\n",
       "  <thead>\n",
       "    <tr style=\"text-align: right;\">\n",
       "      <th></th>\n",
       "      <th>backers</th>\n",
       "      <th>usd_pledged_real</th>\n",
       "      <th>usd_goal_real</th>\n",
       "      <th>main_category_val</th>\n",
       "      <th>currency_type_val</th>\n",
       "      <th>country_name_val</th>\n",
       "      <th>state_failed</th>\n",
       "      <th>state_successful</th>\n",
       "      <th>number_of_days</th>\n",
       "    </tr>\n",
       "  </thead>\n",
       "  <tbody>\n",
       "    <tr>\n",
       "      <th>214806</th>\n",
       "      <td>10</td>\n",
       "      <td>343.0</td>\n",
       "      <td>10000.0</td>\n",
       "      <td>7</td>\n",
       "      <td>1</td>\n",
       "      <td>1</td>\n",
       "      <td>1</td>\n",
       "      <td>0</td>\n",
       "      <td>29</td>\n",
       "    </tr>\n",
       "    <tr>\n",
       "      <th>69476</th>\n",
       "      <td>2</td>\n",
       "      <td>6.0</td>\n",
       "      <td>8000.0</td>\n",
       "      <td>1</td>\n",
       "      <td>1</td>\n",
       "      <td>1</td>\n",
       "      <td>1</td>\n",
       "      <td>0</td>\n",
       "      <td>29</td>\n",
       "    </tr>\n",
       "    <tr>\n",
       "      <th>15972</th>\n",
       "      <td>1</td>\n",
       "      <td>15.0</td>\n",
       "      <td>300.0</td>\n",
       "      <td>1</td>\n",
       "      <td>1</td>\n",
       "      <td>1</td>\n",
       "      <td>1</td>\n",
       "      <td>0</td>\n",
       "      <td>30</td>\n",
       "    </tr>\n",
       "    <tr>\n",
       "      <th>192608</th>\n",
       "      <td>76</td>\n",
       "      <td>4726.0</td>\n",
       "      <td>2700.0</td>\n",
       "      <td>3</td>\n",
       "      <td>1</td>\n",
       "      <td>1</td>\n",
       "      <td>0</td>\n",
       "      <td>1</td>\n",
       "      <td>29</td>\n",
       "    </tr>\n",
       "    <tr>\n",
       "      <th>225777</th>\n",
       "      <td>1</td>\n",
       "      <td>1.0</td>\n",
       "      <td>10000.0</td>\n",
       "      <td>5</td>\n",
       "      <td>1</td>\n",
       "      <td>1</td>\n",
       "      <td>1</td>\n",
       "      <td>0</td>\n",
       "      <td>59</td>\n",
       "    </tr>\n",
       "  </tbody>\n",
       "</table>\n",
       "</div>"
      ],
      "text/plain": [
       "        backers  usd_pledged_real  usd_goal_real  main_category_val  \\\n",
       "214806       10             343.0        10000.0                  7   \n",
       "69476         2               6.0         8000.0                  1   \n",
       "15972         1              15.0          300.0                  1   \n",
       "192608       76            4726.0         2700.0                  3   \n",
       "225777        1               1.0        10000.0                  5   \n",
       "\n",
       "        currency_type_val  country_name_val  state_failed  state_successful  \\\n",
       "214806                  1                 1             1                 0   \n",
       "69476                   1                 1             1                 0   \n",
       "15972                   1                 1             1                 0   \n",
       "192608                  1                 1             0                 1   \n",
       "225777                  1                 1             1                 0   \n",
       "\n",
       "        number_of_days  \n",
       "214806              29  \n",
       "69476               29  \n",
       "15972               30  \n",
       "192608              29  \n",
       "225777              59  "
      ]
     },
     "execution_count": 36,
     "metadata": {},
     "output_type": "execute_result"
    }
   ],
   "source": [
    "train.head()"
   ]
  },
  {
   "cell_type": "code",
   "execution_count": 37,
   "metadata": {},
   "outputs": [
    {
     "data": {
      "text/html": [
       "<div>\n",
       "<style scoped>\n",
       "    .dataframe tbody tr th:only-of-type {\n",
       "        vertical-align: middle;\n",
       "    }\n",
       "\n",
       "    .dataframe tbody tr th {\n",
       "        vertical-align: top;\n",
       "    }\n",
       "\n",
       "    .dataframe thead th {\n",
       "        text-align: right;\n",
       "    }\n",
       "</style>\n",
       "<table border=\"1\" class=\"dataframe\">\n",
       "  <thead>\n",
       "    <tr style=\"text-align: right;\">\n",
       "      <th></th>\n",
       "      <th>backers</th>\n",
       "      <th>usd_pledged_real</th>\n",
       "      <th>usd_goal_real</th>\n",
       "      <th>main_category_val</th>\n",
       "      <th>currency_type_val</th>\n",
       "      <th>country_name_val</th>\n",
       "      <th>state_failed</th>\n",
       "      <th>number_of_days</th>\n",
       "    </tr>\n",
       "  </thead>\n",
       "  <tbody>\n",
       "    <tr>\n",
       "      <th>214806</th>\n",
       "      <td>10</td>\n",
       "      <td>343.0</td>\n",
       "      <td>10000.0</td>\n",
       "      <td>7</td>\n",
       "      <td>1</td>\n",
       "      <td>1</td>\n",
       "      <td>1</td>\n",
       "      <td>29</td>\n",
       "    </tr>\n",
       "    <tr>\n",
       "      <th>69476</th>\n",
       "      <td>2</td>\n",
       "      <td>6.0</td>\n",
       "      <td>8000.0</td>\n",
       "      <td>1</td>\n",
       "      <td>1</td>\n",
       "      <td>1</td>\n",
       "      <td>1</td>\n",
       "      <td>29</td>\n",
       "    </tr>\n",
       "    <tr>\n",
       "      <th>15972</th>\n",
       "      <td>1</td>\n",
       "      <td>15.0</td>\n",
       "      <td>300.0</td>\n",
       "      <td>1</td>\n",
       "      <td>1</td>\n",
       "      <td>1</td>\n",
       "      <td>1</td>\n",
       "      <td>30</td>\n",
       "    </tr>\n",
       "    <tr>\n",
       "      <th>192608</th>\n",
       "      <td>76</td>\n",
       "      <td>4726.0</td>\n",
       "      <td>2700.0</td>\n",
       "      <td>3</td>\n",
       "      <td>1</td>\n",
       "      <td>1</td>\n",
       "      <td>0</td>\n",
       "      <td>29</td>\n",
       "    </tr>\n",
       "    <tr>\n",
       "      <th>225777</th>\n",
       "      <td>1</td>\n",
       "      <td>1.0</td>\n",
       "      <td>10000.0</td>\n",
       "      <td>5</td>\n",
       "      <td>1</td>\n",
       "      <td>1</td>\n",
       "      <td>1</td>\n",
       "      <td>59</td>\n",
       "    </tr>\n",
       "  </tbody>\n",
       "</table>\n",
       "</div>"
      ],
      "text/plain": [
       "        backers  usd_pledged_real  usd_goal_real  main_category_val  \\\n",
       "214806       10             343.0        10000.0                  7   \n",
       "69476         2               6.0         8000.0                  1   \n",
       "15972         1              15.0          300.0                  1   \n",
       "192608       76            4726.0         2700.0                  3   \n",
       "225777        1               1.0        10000.0                  5   \n",
       "\n",
       "        currency_type_val  country_name_val  state_failed  number_of_days  \n",
       "214806                  1                 1             1              29  \n",
       "69476                   1                 1             1              29  \n",
       "15972                   1                 1             1              30  \n",
       "192608                  1                 1             0              29  \n",
       "225777                  1                 1             1              59  "
      ]
     },
     "execution_count": 37,
     "metadata": {},
     "output_type": "execute_result"
    }
   ],
   "source": [
    "X_train.head()"
   ]
  },
  {
   "cell_type": "code",
   "execution_count": 38,
   "metadata": {},
   "outputs": [
    {
     "data": {
      "text/html": [
       "<div>\n",
       "<style scoped>\n",
       "    .dataframe tbody tr th:only-of-type {\n",
       "        vertical-align: middle;\n",
       "    }\n",
       "\n",
       "    .dataframe tbody tr th {\n",
       "        vertical-align: top;\n",
       "    }\n",
       "\n",
       "    .dataframe thead th {\n",
       "        text-align: right;\n",
       "    }\n",
       "</style>\n",
       "<table border=\"1\" class=\"dataframe\">\n",
       "  <thead>\n",
       "    <tr style=\"text-align: right;\">\n",
       "      <th></th>\n",
       "      <th>state_successful</th>\n",
       "    </tr>\n",
       "  </thead>\n",
       "  <tbody>\n",
       "    <tr>\n",
       "      <th>214806</th>\n",
       "      <td>0</td>\n",
       "    </tr>\n",
       "    <tr>\n",
       "      <th>69476</th>\n",
       "      <td>0</td>\n",
       "    </tr>\n",
       "    <tr>\n",
       "      <th>15972</th>\n",
       "      <td>0</td>\n",
       "    </tr>\n",
       "    <tr>\n",
       "      <th>192608</th>\n",
       "      <td>1</td>\n",
       "    </tr>\n",
       "    <tr>\n",
       "      <th>225777</th>\n",
       "      <td>0</td>\n",
       "    </tr>\n",
       "  </tbody>\n",
       "</table>\n",
       "</div>"
      ],
      "text/plain": [
       "        state_successful\n",
       "214806                 0\n",
       "69476                  0\n",
       "15972                  0\n",
       "192608                 1\n",
       "225777                 0"
      ]
     },
     "execution_count": 38,
     "metadata": {},
     "output_type": "execute_result"
    }
   ],
   "source": [
    "y_train.head()"
   ]
  },
  {
   "cell_type": "markdown",
   "metadata": {},
   "source": [
    "# Takeaways"
   ]
  },
  {
   "cell_type": "markdown",
   "metadata": {},
   "source": [
    "- I split the data up into train, X_train, y_train in order to have a least biased evalutaion of my models performance. \n",
    "- This process generated three new datframes for each (train, validate, test)"
   ]
  },
  {
   "cell_type": "markdown",
   "metadata": {},
   "source": [
    "# Explore"
   ]
  },
  {
   "cell_type": "code",
   "execution_count": 39,
   "metadata": {},
   "outputs": [
    {
     "data": {
      "text/plain": [
       "<AxesSubplot:xlabel='backers'>"
      ]
     },
     "execution_count": 39,
     "metadata": {},
     "output_type": "execute_result"
    },
    {
     "data": {
      "image/png": "[encoded data removed]",
      "text/plain": [
       "<Figure size 432x288 with 1 Axes>"
      ]
     },
     "metadata": {
      "needs_background": "light"
     },
     "output_type": "display_data"
    }
   ],
   "source": [
    "sns.boxplot(x=\"backers\", data=train)"
   ]
  },
  {
   "cell_type": "code",
   "execution_count": 40,
   "metadata": {},
   "outputs": [
    {
     "data": {
      "text/plain": [
       "<AxesSubplot:xlabel='usd_pledged_real'>"
      ]
     },
     "execution_count": 40,
     "metadata": {},
     "output_type": "execute_result"
    },
    {
     "data": {
      "image/png": "[encoded data removed]",
      "text/plain": [
       "<Figure size 432x288 with 1 Axes>"
      ]
     },
     "metadata": {
      "needs_background": "light"
     },
     "output_type": "display_data"
    }
   ],
   "source": [
    "sns.boxplot(x=\"usd_pledged_real\", data=train)"
   ]
  },
  {
   "cell_type": "code",
   "execution_count": 41,
   "metadata": {},
   "outputs": [
    {
     "data": {
      "text/plain": [
       "<AxesSubplot:xlabel='usd_goal_real'>"
      ]
     },
     "execution_count": 41,
     "metadata": {},
     "output_type": "execute_result"
    },
    {
     "data": {
      "image/png": "[encoded data removed]",
      "text/plain": [
       "<Figure size 432x288 with 1 Axes>"
      ]
     },
     "metadata": {
      "needs_background": "light"
     },
     "output_type": "display_data"
    }
   ],
   "source": [
    "sns.boxplot(x=\"usd_goal_real\", data=train)"
   ]
  },
  {
   "cell_type": "code",
   "execution_count": 42,
   "metadata": {},
   "outputs": [],
   "source": [
    "corr = train.corr()"
   ]
  },
  {
   "cell_type": "code",
   "execution_count": 43,
   "metadata": {},
   "outputs": [
    {
     "data": {
      "image/png": "[encoded data removed]",
      "text/plain": [
       "<Figure size 432x288 with 2 Axes>"
      ]
     },
     "metadata": {
      "needs_background": "light"
     },
     "output_type": "display_data"
    }
   ],
   "source": [
    "\n",
    "sns.heatmap(corr, annot=True)\n",
    "plt.show()"
   ]
  },
  {
   "cell_type": "code",
   "execution_count": 44,
   "metadata": {},
   "outputs": [
    {
     "data": {
      "text/html": [
       "<div>\n",
       "<style scoped>\n",
       "    .dataframe tbody tr th:only-of-type {\n",
       "        vertical-align: middle;\n",
       "    }\n",
       "\n",
       "    .dataframe tbody tr th {\n",
       "        vertical-align: top;\n",
       "    }\n",
       "\n",
       "    .dataframe thead th {\n",
       "        text-align: right;\n",
       "    }\n",
       "</style>\n",
       "<table border=\"1\" class=\"dataframe\">\n",
       "  <thead>\n",
       "    <tr style=\"text-align: right;\">\n",
       "      <th></th>\n",
       "      <th>state_successful</th>\n",
       "    </tr>\n",
       "  </thead>\n",
       "  <tbody>\n",
       "    <tr>\n",
       "      <th>backers</th>\n",
       "      <td>0.562896</td>\n",
       "    </tr>\n",
       "    <tr>\n",
       "      <th>usd_pledged_real</th>\n",
       "      <td>0.572991</td>\n",
       "    </tr>\n",
       "    <tr>\n",
       "      <th>usd_goal_real</th>\n",
       "      <td>-0.413447</td>\n",
       "    </tr>\n",
       "    <tr>\n",
       "      <th>main_category_val</th>\n",
       "      <td>-0.042572</td>\n",
       "    </tr>\n",
       "    <tr>\n",
       "      <th>currency_type_val</th>\n",
       "      <td>-0.051343</td>\n",
       "    </tr>\n",
       "    <tr>\n",
       "      <th>country_name_val</th>\n",
       "      <td>-0.056363</td>\n",
       "    </tr>\n",
       "    <tr>\n",
       "      <th>state_failed</th>\n",
       "      <td>-1.000000</td>\n",
       "    </tr>\n",
       "    <tr>\n",
       "      <th>state_successful</th>\n",
       "      <td>1.000000</td>\n",
       "    </tr>\n",
       "    <tr>\n",
       "      <th>number_of_days</th>\n",
       "      <td>-0.000373</td>\n",
       "    </tr>\n",
       "  </tbody>\n",
       "</table>\n",
       "</div>"
      ],
      "text/plain": [
       "                   state_successful\n",
       "backers                    0.562896\n",
       "usd_pledged_real           0.572991\n",
       "usd_goal_real             -0.413447\n",
       "main_category_val         -0.042572\n",
       "currency_type_val         -0.051343\n",
       "country_name_val          -0.056363\n",
       "state_failed              -1.000000\n",
       "state_successful           1.000000\n",
       "number_of_days            -0.000373"
      ]
     },
     "execution_count": 44,
     "metadata": {},
     "output_type": "execute_result"
    }
   ],
   "source": [
    "corr = pd.DataFrame(corr)\n",
    "corr_state_successful = pd.DataFrame(corr.state_successful)\n",
    "corr_state_successful"
   ]
  },
  {
   "cell_type": "markdown",
   "metadata": {},
   "source": [
    "# Findings\n",
    "--------------------------------------------------------\n",
    "- I found that the highest contriubter to the success of a project is the number of backers and pledged usd.\n",
    "- I want to know how to predict how many backers or the amount of pledged money you will get\n",
    "- What feature influences the backers or the ammount spent twords a project?\n",
    "--------------------------------------------------------\n",
    "- I also found that the there is a slight negative correlation tied to usd_goal_real and state_success. This means that as the goal of projects increase there is a negative impact twords the overall success of the project. \n",
    "- From this we could look at where the 'sweet spot' for goal ammounts to increase the liklyhood of getting funded and being successful.\n",
    "--------------------------------------------------------\n"
   ]
  },
  {
   "cell_type": "code",
   "execution_count": 45,
   "metadata": {},
   "outputs": [
    {
     "data": {
      "text/plain": [
       "<AxesSubplot:>"
      ]
     },
     "execution_count": 45,
     "metadata": {},
     "output_type": "execute_result"
    },
    {
     "data": {
      "image/png": "[encoded data removed]",
      "text/plain": [
       "<Figure size 432x288 with 1 Axes>"
      ]
     },
     "metadata": {
      "needs_background": "light"
     },
     "output_type": "display_data"
    }
   ],
   "source": [
    "train.usd_goal_real.hist()"
   ]
  },
  {
   "cell_type": "code",
   "execution_count": 46,
   "metadata": {},
   "outputs": [
    {
     "data": {
      "text/plain": [
       "count    87505.000000\n",
       "mean      4855.202354\n",
       "std       4936.140067\n",
       "min          0.490000\n",
       "25%       1200.000000\n",
       "50%       3000.000000\n",
       "75%       6311.780000\n",
       "max      22736.570000\n",
       "Name: usd_goal_real, dtype: float64"
      ]
     },
     "execution_count": 46,
     "metadata": {},
     "output_type": "execute_result"
    }
   ],
   "source": [
    "train.usd_goal_real.describe()"
   ]
  },
  {
   "cell_type": "markdown",
   "metadata": {},
   "source": [
    "# Findings"
   ]
  },
  {
   "cell_type": "markdown",
   "metadata": {},
   "source": [
    "-"
   ]
  },
  {
   "cell_type": "code",
   "execution_count": 47,
   "metadata": {},
   "outputs": [
    {
     "data": {
      "text/plain": [
       "<AxesSubplot:>"
      ]
     },
     "execution_count": 47,
     "metadata": {},
     "output_type": "execute_result"
    },
    {
     "data": {
      "image/png": "[encoded data removed]",
      "text/plain": [
       "<Figure size 432x288 with 1 Axes>"
      ]
     },
     "metadata": {
      "needs_background": "light"
     },
     "output_type": "display_data"
    }
   ],
   "source": [
    "train.usd_pledged_real.hist()"
   ]
  },
  {
   "cell_type": "code",
   "execution_count": 48,
   "metadata": {},
   "outputs": [
    {
     "data": {
      "text/plain": [
       "count    87505.000000\n",
       "mean      1585.617716\n",
       "std       1975.078774\n",
       "min          0.480000\n",
       "25%        101.000000\n",
       "50%        676.530000\n",
       "75%       2459.000000\n",
       "max       8172.000000\n",
       "Name: usd_pledged_real, dtype: float64"
      ]
     },
     "execution_count": 48,
     "metadata": {},
     "output_type": "execute_result"
    }
   ],
   "source": [
    "train.usd_pledged_real.describe()"
   ]
  },
  {
   "cell_type": "markdown",
   "metadata": {},
   "source": [
    "# Findings"
   ]
  },
  {
   "cell_type": "markdown",
   "metadata": {},
   "source": [
    "- "
   ]
  },
  {
   "cell_type": "code",
   "execution_count": 49,
   "metadata": {},
   "outputs": [
    {
     "data": {
      "text/plain": [
       "<seaborn.axisgrid.FacetGrid at 0x7fcd00aeb730>"
      ]
     },
     "execution_count": 49,
     "metadata": {},
     "output_type": "execute_result"
    },
    {
     "data": {
      "image/png": "[encoded data removed]",
      "text/plain": [
       "<Figure size 450.375x360 with 1 Axes>"
      ]
     },
     "metadata": {
      "needs_background": "light"
     },
     "output_type": "display_data"
    }
   ],
   "source": [
    "sns.relplot(x = 'usd_pledged_real', y= 'usd_goal_real', data = train, hue = train.state_successful, palette='viridis')"
   ]
  },
  {
   "cell_type": "markdown",
   "metadata": {},
   "source": [
    "# Findings"
   ]
  },
  {
   "cell_type": "markdown",
   "metadata": {},
   "source": [
    "- I discovered that goal amount has a negative impact on the success of the project. I found that the majority of succeful projects lied between 10 and roughly 8000 dollar range. \n",
    "- I have determined to better ones chances at having a successful project they would need to set their project goal at around 5000 dollars.\n",
    "- This feature does not determin you success on its own, I need to look at the main category as well as tyhe number of backers to see if these features can be accurate identifiers for project success. "
   ]
  },
  {
   "cell_type": "code",
   "execution_count": 50,
   "metadata": {},
   "outputs": [
    {
     "data": {
      "text/plain": [
       "<seaborn.axisgrid.FacetGrid at 0x7fcd02fecca0>"
      ]
     },
     "execution_count": 50,
     "metadata": {},
     "output_type": "execute_result"
    },
    {
     "data": {
      "image/png": "[encoded data removed]",
      "text/plain": [
       "<Figure size 450.375x360 with 1 Axes>"
      ]
     },
     "metadata": {
      "needs_background": "light"
     },
     "output_type": "display_data"
    }
   ],
   "source": [
    "sns.displot(train, x=\"usd_goal_real\", hue= train.state_successful, multiple=\"stack\")"
   ]
  },
  {
   "cell_type": "markdown",
   "metadata": {},
   "source": [
    "# Findings"
   ]
  },
  {
   "cell_type": "markdown",
   "metadata": {},
   "source": [
    "- Form this graph we can see that there is a sharp cut off at around 8000 dollars when projects go from having the posibility of being successful to not.\n",
    "- I also saw a significant spike in projects that are success full in the 5000 dollar range.\n",
    "- The majority of projects that are successful percentage wise are those between 1000 and 3000 dollar range. "
   ]
  },
  {
   "cell_type": "code",
   "execution_count": 51,
   "metadata": {},
   "outputs": [
    {
     "data": {
      "text/plain": [
       "<seaborn.axisgrid.FacetGrid at 0x7fcd02ae3e50>"
      ]
     },
     "execution_count": 51,
     "metadata": {},
     "output_type": "execute_result"
    },
    {
     "data": {
      "image/png": "[encoded data removed]",
      "text/plain": [
       "<Figure size 450.375x360 with 1 Axes>"
      ]
     },
     "metadata": {
      "needs_background": "light"
     },
     "output_type": "display_data"
    }
   ],
   "source": [
    "sns.displot(train, x=\"backers\", hue= train.state_successful, multiple=\"stack\")"
   ]
  },
  {
   "cell_type": "markdown",
   "metadata": {},
   "source": [
    "# Findings"
   ]
  },
  {
   "cell_type": "markdown",
   "metadata": {},
   "source": [
    "- The majority of projects that hade 25 > greater backers where more successful."
   ]
  },
  {
   "cell_type": "code",
   "execution_count": 52,
   "metadata": {},
   "outputs": [
    {
     "data": {
      "text/plain": [
       "<seaborn.axisgrid.FacetGrid at 0x7fcd00aebb80>"
      ]
     },
     "execution_count": 52,
     "metadata": {},
     "output_type": "execute_result"
    },
    {
     "data": {
      "image/png": "[encoded data removed]",
      "text/plain": [
       "<Figure size 450.375x360 with 1 Axes>"
      ]
     },
     "metadata": {
      "needs_background": "light"
     },
     "output_type": "display_data"
    }
   ],
   "source": [
    "sns.displot(train, x=\"main_category_val\", hue= train.state_successful, multiple=\"stack\")"
   ]
  },
  {
   "cell_type": "markdown",
   "metadata": {},
   "source": [
    "# Findings"
   ]
  },
  {
   "cell_type": "markdown",
   "metadata": {},
   "source": [
    "- Cat 1 - (film_video) is the most popular propject on the kickstarter website, Their success/fail ratio is average.\n",
    "- Cat 2 - (Music) is the most successful and secound most popular catagory.\n",
    "- Cat 5 - (Technology) is the least has the worst success to fail ratio.\n",
    "- Cat 14 and Cat 15 - (Journalism and Dance) are the least popular categorys with Journalism having terible success/fail ratio. Dance has a good success/fail ratio but not as popular."
   ]
  },
  {
   "cell_type": "code",
   "execution_count": 53,
   "metadata": {},
   "outputs": [
    {
     "data": {
      "text/plain": [
       "(0.0, 40000.0)"
      ]
     },
     "execution_count": 53,
     "metadata": {},
     "output_type": "execute_result"
    },
    {
     "data": {
      "image/png": "[encoded data removed]",
      "text/plain": [
       "<Figure size 450.375x360 with 1 Axes>"
      ]
     },
     "metadata": {
      "needs_background": "light"
     },
     "output_type": "display_data"
    }
   ],
   "source": [
    "sns.displot(train, x=\"number_of_days\", hue= train.state_successful, multiple=\"stack\")\n",
    "plt.ylim(0, 40000)"
   ]
  },
  {
   "cell_type": "markdown",
   "metadata": {},
   "source": [
    "# Findings"
   ]
  },
  {
   "cell_type": "markdown",
   "metadata": {},
   "source": [
    "- The majority of projects that were successful took 30 days to have their goal filled."
   ]
  },
  {
   "cell_type": "markdown",
   "metadata": {},
   "source": [
    "# Stat Tests"
   ]
  },
  {
   "cell_type": "code",
   "execution_count": 54,
   "metadata": {},
   "outputs": [],
   "source": [
    "from stat_tests import t_test\n",
    "from stat_tests import chi2"
   ]
  },
  {
   "cell_type": "markdown",
   "metadata": {},
   "source": [
    "### Test 1"
   ]
  },
  {
   "cell_type": "markdown",
   "metadata": {},
   "source": [
    "- HO: There is no relationship between usd_pledged_real and state_successful\n",
    "- HA: There is a relationship between usd_pledged_real and state_successful"
   ]
  },
  {
   "cell_type": "code",
   "execution_count": 60,
   "metadata": {},
   "outputs": [],
   "source": [
    "population_1 = train.usd_pledged_real \t\n",
    "population_2 = train.state_successful\n",
    "alpha = .05"
   ]
  },
  {
   "cell_type": "code",
   "execution_count": 61,
   "metadata": {},
   "outputs": [
    {
     "name": "stdout",
     "output_type": "stream",
     "text": [
      "t-stat = 237.4207\n",
      "p     = 0.0\n",
      "\n",
      "Because the p-value: 0.0 is less than the alpha: 0.05, we can reject the null hypothesis\n"
     ]
    }
   ],
   "source": [
    "t_test( population_1, population_2, alpha, sample=1, tail=2, tail_dir=\"higher\")"
   ]
  },
  {
   "cell_type": "markdown",
   "metadata": {},
   "source": [
    "- HO: There is no relationship between backers and state_successful\n",
    "- HA: There is a relationship between backers and state_successful"
   ]
  },
  {
   "cell_type": "code",
   "execution_count": 62,
   "metadata": {},
   "outputs": [],
   "source": [
    "population_1 = train.backers\t\n",
    "population_2 = train.state_successful\n",
    "alpha = .05"
   ]
  },
  {
   "cell_type": "code",
   "execution_count": 63,
   "metadata": {},
   "outputs": [
    {
     "name": "stdout",
     "output_type": "stream",
     "text": [
      "t-stat = 242.3599\n",
      "p     = 0.0\n",
      "\n",
      "Because the p-value: 0.0 is less than the alpha: 0.05, we can reject the null hypothesis\n"
     ]
    }
   ],
   "source": [
    "t_test( population_1, population_2, alpha, sample=1, tail=2, tail_dir=\"higher\")"
   ]
  },
  {
   "cell_type": "markdown",
   "metadata": {},
   "source": [
    "- HO: There is no relationship between usd_goal_real and state_successful\n",
    "- HA: There is a relationship between usd_goal_real and state_successful"
   ]
  },
  {
   "cell_type": "code",
   "execution_count": 66,
   "metadata": {},
   "outputs": [],
   "source": [
    "population_1 = train.usd_goal_real\t\n",
    "population_2 = train.state_successful\n",
    "alpha = .05"
   ]
  },
  {
   "cell_type": "code",
   "execution_count": 67,
   "metadata": {},
   "outputs": [
    {
     "name": "stdout",
     "output_type": "stream",
     "text": [
      "t-stat = 290.9375\n",
      "p     = 0.0\n",
      "\n",
      "Because the p-value: 0.0 is less than the alpha: 0.05, we can reject the null hypothesis\n"
     ]
    }
   ],
   "source": [
    "t_test( population_1, population_2, alpha, sample=1, tail=2, tail_dir=\"higher\")"
   ]
  },
  {
   "cell_type": "markdown",
   "metadata": {},
   "source": [
    "# Modeling"
   ]
  },
  {
   "cell_type": "markdown",
   "metadata": {},
   "source": [
    "# Logit Model"
   ]
  },
  {
   "cell_type": "code",
   "execution_count": 73,
   "metadata": {},
   "outputs": [],
   "source": [
    "from sklearn.neighbors import KNeighborsClassifier\n",
    "from sklearn.ensemble import RandomForestClassifier\n",
    "from sklearn.linear_model import LogisticRegression\n",
    "from sklearn.metrics import classification_report\n",
    "from sklearn.metrics import confusion_matrix"
   ]
  },
  {
   "cell_type": "code",
   "execution_count": 74,
   "metadata": {},
   "outputs": [],
   "source": [
    "def logit_model(train, y_train, validate, y_validate):\n",
    "    \n",
    "    logit = LogisticRegression(C=1, class_weight={0:1, 1:99},\n",
    "                               random_state=123)\n",
    "\n",
    "    #  fit the model on train data\n",
    "    logit.fit(train, y_train)\n",
    "\n",
    "    # now use the model to make predictions\n",
    "    y_pred = logit.predict(train)\n",
    "\n",
    "    # View raw probabilities (output from the model) (gives proabilities for each observation)\n",
    "    y_pred_proba = logit.predict_proba(train)\n",
    "    y_pred_proba = pd.DataFrame(y_pred_proba, columns = ['fail', 'success'])\n",
    "\n",
    "    print(classification_report(y_train, y_pred ))\n",
    "\n",
    "    # Test out of sample data\n",
    "    y_pred_validate = logit.predict(validate)\n",
    "\n",
    "    print(confusion_matrix(y_validate, y_pred_validate))\n",
    "\n",
    "    print('Coefficient: \\n', logit.coef_)\n",
    "    print('Intercept: \\n', logit.intercept_)\n",
    "\n",
    "    logit.coef_[0]\n",
    "\n",
    "    log_coeffs = pd.DataFrame(logit.coef_[0], index = train.columns, columns = ['coeffs']).sort_values(by = 'coeffs', ascending = True)\n",
    "    odds = np.exp(log_coeffs)\n",
    "\n",
    "    return odds"
   ]
  },
  {
   "cell_type": "code",
   "execution_count": 75,
   "metadata": {},
   "outputs": [
    {
     "name": "stdout",
     "output_type": "stream",
     "text": [
      "              precision    recall  f1-score   support\n",
      "\n",
      "           0       1.00      1.00      1.00     51735\n",
      "           1       1.00      1.00      1.00     35770\n",
      "\n",
      "    accuracy                           1.00     87505\n",
      "   macro avg       1.00      1.00      1.00     87505\n",
      "weighted avg       1.00      1.00      1.00     87505\n",
      "\n",
      "[[22250     3]\n",
      " [    0 15250]]\n",
      "Coefficient: \n",
      " [[ 0.23418665  0.36712446 -0.36758533 -0.38987906  0.94205217 -0.10271357\n",
      "  -3.47808412  6.75713989  0.02969673]]\n",
      "Intercept: \n",
      " [3.31765512]\n"
     ]
    }
   ],
   "source": [
    "odds = logit_model(train, y_train, validate, y_validate)"
   ]
  },
  {
   "cell_type": "code",
   "execution_count": 76,
   "metadata": {},
   "outputs": [
    {
     "data": {
      "text/html": [
       "<div>\n",
       "<style scoped>\n",
       "    .dataframe tbody tr th:only-of-type {\n",
       "        vertical-align: middle;\n",
       "    }\n",
       "\n",
       "    .dataframe tbody tr th {\n",
       "        vertical-align: top;\n",
       "    }\n",
       "\n",
       "    .dataframe thead th {\n",
       "        text-align: right;\n",
       "    }\n",
       "</style>\n",
       "<table border=\"1\" class=\"dataframe\">\n",
       "  <thead>\n",
       "    <tr style=\"text-align: right;\">\n",
       "      <th></th>\n",
       "      <th>coeffs</th>\n",
       "    </tr>\n",
       "  </thead>\n",
       "  <tbody>\n",
       "    <tr>\n",
       "      <th>state_failed</th>\n",
       "      <td>0.030866</td>\n",
       "    </tr>\n",
       "    <tr>\n",
       "      <th>main_category_val</th>\n",
       "      <td>0.677139</td>\n",
       "    </tr>\n",
       "    <tr>\n",
       "      <th>usd_goal_real</th>\n",
       "      <td>0.692404</td>\n",
       "    </tr>\n",
       "    <tr>\n",
       "      <th>country_name_val</th>\n",
       "      <td>0.902385</td>\n",
       "    </tr>\n",
       "    <tr>\n",
       "      <th>number_of_days</th>\n",
       "      <td>1.030142</td>\n",
       "    </tr>\n",
       "    <tr>\n",
       "      <th>backers</th>\n",
       "      <td>1.263880</td>\n",
       "    </tr>\n",
       "    <tr>\n",
       "      <th>usd_pledged_real</th>\n",
       "      <td>1.443578</td>\n",
       "    </tr>\n",
       "    <tr>\n",
       "      <th>currency_type_val</th>\n",
       "      <td>2.565240</td>\n",
       "    </tr>\n",
       "    <tr>\n",
       "      <th>state_successful</th>\n",
       "      <td>860.178466</td>\n",
       "    </tr>\n",
       "  </tbody>\n",
       "</table>\n",
       "</div>"
      ],
      "text/plain": [
       "                       coeffs\n",
       "state_failed         0.030866\n",
       "main_category_val    0.677139\n",
       "usd_goal_real        0.692404\n",
       "country_name_val     0.902385\n",
       "number_of_days       1.030142\n",
       "backers              1.263880\n",
       "usd_pledged_real     1.443578\n",
       "currency_type_val    2.565240\n",
       "state_successful   860.178466"
      ]
     },
     "execution_count": 76,
     "metadata": {},
     "output_type": "execute_result"
    }
   ],
   "source": [
    "odds"
   ]
  },
  {
   "cell_type": "markdown",
   "metadata": {},
   "source": [
    "# KNN Model"
   ]
  },
  {
   "cell_type": "code",
   "execution_count": 77,
   "metadata": {},
   "outputs": [],
   "source": [
    "def knn_model(X_train, y_train, X_validate, y_validate):\n",
    "    \n",
    "    # weights = ['uniform', 'density']\n",
    "    knn = KNeighborsClassifier(n_neighbors=5, weights='uniform')\n",
    "    knn.fit(X_train, y_train)\n",
    "    y_pred = knn.predict(X_train)\n",
    "    y_pred_proba = knn.predict_proba(X_train)\n",
    "    print('Accuracy of KNN classifier on training set: {:.2f}'\n",
    "         .format(knn.score(X_train, y_train)))\n",
    "    print(confusion_matrix(y_train, y_pred))\n",
    "    print(classification_report(y_train, y_pred))\n",
    "\n",
    "    # Validate Model\n",
    "    print('Accuracy of KNN classifier on test set: {:.2f}'\n",
    "         .format(knn.score(X_validate, y_validate)))\n",
    "    y_pred = knn.predict(X_validate)\n",
    "    print(classification_report(y_validate, y_pred))\n",
    "\n",
    "    # Viz Model\n",
    "    k_range = range(1, 20)\n",
    "    scores = []\n",
    "    for k in k_range:\n",
    "        knn = KNeighborsClassifier(n_neighbors = k)\n",
    "        knn.fit(X_train, y_train)\n",
    "        scores.append(knn.score(X_test, y_test))\n",
    "    plt.figure()\n",
    "    plt.xlabel('k')\n",
    "    plt.ylabel('accuracy')\n",
    "    plt.scatter(k_range, scores)\n",
    "    plt.xticks([0,5,10,15,20])\n",
    "    plt.show()"
   ]
  },
  {
   "cell_type": "code",
   "execution_count": 78,
   "metadata": {},
   "outputs": [
    {
     "name": "stdout",
     "output_type": "stream",
     "text": [
      "Accuracy of KNN classifier on training set: 1.00\n",
      "[[51693    42]\n",
      " [    5 35765]]\n",
      "              precision    recall  f1-score   support\n",
      "\n",
      "           0       1.00      1.00      1.00     51735\n",
      "           1       1.00      1.00      1.00     35770\n",
      "\n",
      "    accuracy                           1.00     87505\n",
      "   macro avg       1.00      1.00      1.00     87505\n",
      "weighted avg       1.00      1.00      1.00     87505\n",
      "\n",
      "Accuracy of KNN classifier on test set: 1.00\n",
      "              precision    recall  f1-score   support\n",
      "\n",
      "           0       1.00      1.00      1.00     22253\n",
      "           1       1.00      1.00      1.00     15250\n",
      "\n",
      "    accuracy                           1.00     37503\n",
      "   macro avg       1.00      1.00      1.00     37503\n",
      "weighted avg       1.00      1.00      1.00     37503\n",
      "\n"
     ]
    },
    {
     "data": {
      "image/png": "[encoded data removed]",
      "text/plain": [
       "<Figure size 432x288 with 1 Axes>"
      ]
     },
     "metadata": {
      "needs_background": "light"
     },
     "output_type": "display_data"
    }
   ],
   "source": [
    "knn_model(X_train, y_train, X_validate, y_validate)"
   ]
  },
  {
   "cell_type": "markdown",
   "metadata": {},
   "source": [
    "# BootStrap Model"
   ]
  },
  {
   "cell_type": "code",
   "execution_count": 79,
   "metadata": {},
   "outputs": [],
   "source": [
    "def bootstrap_model(X_train, y_train, X_validate, y_validate):\n",
    "    rf = RandomForestClassifier(bootstrap=True, \n",
    "                                class_weight=None, \n",
    "                                criterion='gini',\n",
    "                                min_samples_leaf=3,\n",
    "                                n_estimators=100,\n",
    "                                max_depth=3, \n",
    "                                random_state=123)\n",
    "    # Fit the model\n",
    "    rf.fit(X_train, y_train)\n",
    "    print(rf.feature_importances_)\n",
    "    # Make Predictions\n",
    "    y_pred = rf.predict(X_train)\n",
    "    # Estimate Probability\n",
    "    y_pred_proba = rf.predict_proba(X_train)\n",
    "\n",
    "    # Evaluate Model \n",
    "    # Compute the Accuracy\n",
    "    print('Accuracy of random forest classifier on training set: {:.2f}'\n",
    "         .format(rf.score(X_train, y_train)))\n",
    "    # Create a confusion matrix\n",
    "    print(confusion_matrix(y_train, y_pred))\n",
    "    print(classification_report(y_train, y_pred))\n",
    "\n",
    "    # Validate Model\n",
    "    print('Accuracy of random forest classifier on test set: {:.2f}'\n",
    "         .format(rf.score(X_validate, y_validate)))\n",
    "    # out of sample data\n",
    "    y_val_pred_1 = rf.predict(validate.drop(columns='state_successful'))\n",
    "    accuracy_v_1 = rf.score(validate.drop(columns='state_successful'), validate.state_successful)\n",
    "    accuracy = rf.score(X_train, y_train)\n",
    "    class_report = pd.DataFrame(classification_report(y_train, y_pred, output_dict=True)).T\n",
    "    conf = confusion_matrix(y_train, y_pred)\n",
    "    tpr = conf[1][1] / conf[1].sum()\n",
    "    fpr = conf[0][1] / conf[0].sum()\n",
    "    tnr = conf[0][0] / conf[0].sum()\n",
    "    fnr = conf[1][0] / conf[1].sum()\n",
    "    print(f'''\n",
    "    The accuracy for our model is {accuracy:.4}\n",
    "    The True Positive Rate is {tpr:.3}, The False Positive Rate is {fpr:.3},\n",
    "    The True Negative Rate is {tnr:.3}, and the False Negative Rate is {fnr:.3}\n",
    "    ''')"
   ]
  },
  {
   "cell_type": "code",
   "execution_count": 80,
   "metadata": {},
   "outputs": [
    {
     "name": "stdout",
     "output_type": "stream",
     "text": [
      "[2.01081523e-01 1.58130113e-01 9.42804167e-02 1.15241454e-02\n",
      " 1.77499471e-03 6.18291086e-04 5.32585278e-01 5.23793327e-06]\n",
      "Accuracy of random forest classifier on training set: 1.00\n",
      "[[51735     0]\n",
      " [    0 35770]]\n",
      "              precision    recall  f1-score   support\n",
      "\n",
      "           0       1.00      1.00      1.00     51735\n",
      "           1       1.00      1.00      1.00     35770\n",
      "\n",
      "    accuracy                           1.00     87505\n",
      "   macro avg       1.00      1.00      1.00     87505\n",
      "weighted avg       1.00      1.00      1.00     87505\n",
      "\n",
      "Accuracy of random forest classifier on test set: 1.00\n",
      "\n",
      "    The accuracy for our model is 1.0\n",
      "    The True Positive Rate is 1.0, The False Positive Rate is 0.0,\n",
      "    The True Negative Rate is 1.0, and the False Negative Rate is 0.0\n",
      "    \n"
     ]
    }
   ],
   "source": [
    "bootstrap_model(X_train, y_train, X_validate, y_validate)"
   ]
  },
  {
   "cell_type": "markdown",
   "metadata": {},
   "source": [
    "# Findings"
   ]
  },
  {
   "cell_type": "markdown",
   "metadata": {},
   "source": [
    "- Models used with binary target = (logit, KNN, bootstrap models)\n",
    "- All three models hade an accuracy of 1.00. \n",
    "- This is highly unlikly to be true, If i get more time I would like to look into why my accuracy is so high and the features it is testing on. "
   ]
  },
  {
   "cell_type": "markdown",
   "metadata": {},
   "source": [
    "# Conclusion"
   ]
  },
  {
   "cell_type": "markdown",
   "metadata": {},
   "source": [
    "- In conclusion I have deatemrined that there are corrlations between the features backers, usd_pledged_real, usd_goal_real with the target of state_successful.\n",
    "- I found that there was a negative correlation to the amount usd_goal_real and state_successful. From this I discovered that there was a 'sweet spot' for goals around 5000 dollars.\n",
    "- I also found that the majority of projects that had 25 or greater backers where more successful.\n",
    "- The most successful and most popular categories werre film and music.\n",
    "- I was able to reject each of my null hypothesises solidifying the fact that there is a relationship between these features.\n",
    "- Lastly the modeling came out not as I would have thought. I did not expect to have an accuracy of 1.00 which my baseline model accuary was equal to 0. (This is because i was using a binary target variable.\n",
    "\n",
    "# If I Had More Time\n",
    "- I would have looked into using a continious target varible such as backers or usd_pledged_real. Rather than trying to predict projects who will fail or not id like to look at what factors affect the number of backers and the pledge amounts, knowiung that these two features have a relationship with state_sucessful. With this I would be able to utilize stronger models such as the OLS, Tweedie, or LassoLars and find the best one inorder to reproduce these predictions on future kickstarter projects.\n"
   ]
  },
  {
   "cell_type": "code",
   "execution_count": null,
   "metadata": {},
   "outputs": [],
   "source": []
  }
 ],
 "metadata": {
  "kernelspec": {
   "display_name": "Python 3",
   "language": "python",
   "name": "python3"
  },
  "language_info": {
   "codemirror_mode": {
    "name": "ipython",
    "version": 3
   },
   "file_extension": ".py",
   "mimetype": "text/x-python",
   "name": "python",
   "nbconvert_exporter": "python",
   "pygments_lexer": "ipython3",
   "version": "3.8.5"
  }
 },
 "nbformat": 4,
 "nbformat_minor": 4
}
